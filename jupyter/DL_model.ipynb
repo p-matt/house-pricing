{
 "cells": [
  {
   "cell_type": "code",
   "execution_count": 1,
   "metadata": {
    "collapsed": true
   },
   "outputs": [],
   "source": [
    "import tensorflow as tf\n",
    "import pickle\n",
    "import seaborn as sns\n",
    "import matplotlib.pyplot as plt"
   ]
  },
  {
   "cell_type": "markdown",
   "source": [
    "## Load Data"
   ],
   "metadata": {
    "collapsed": false,
    "pycharm": {
     "name": "#%% md\n"
    }
   }
  },
  {
   "cell_type": "code",
   "execution_count": 2,
   "outputs": [],
   "source": [
    "# Train\n",
    "with open(\"data/X_train_scaled.pickle\", 'rb') as xtrain, open(\"data/y_train_scaled.pickle\", 'rb') as ytrain:\n",
    "    X_train, y_train = pickle.load(xtrain), pickle.load(ytrain)\n",
    "\n",
    "# Test\n",
    "with open(\"data/X_test_scaled.pickle\", 'rb') as xtest, open(\"data/y_test_scaled.pickle\", 'rb') as ytest:\n",
    "    X_test, y_test = pickle.load(xtest), pickle.load(ytest)"
   ],
   "metadata": {
    "collapsed": false,
    "pycharm": {
     "name": "#%%\n"
    }
   }
  },
  {
   "cell_type": "markdown",
   "source": [
    "## Declare fews variables"
   ],
   "metadata": {
    "collapsed": false,
    "pycharm": {
     "name": "#%% md\n"
    }
   }
  },
  {
   "cell_type": "code",
   "execution_count": 3,
   "outputs": [],
   "source": [
    "n_epochs = 200\n",
    "learning_rate = .0001"
   ],
   "metadata": {
    "collapsed": false,
    "pycharm": {
     "name": "#%%\n"
    }
   }
  },
  {
   "cell_type": "markdown",
   "source": [
    "# Deep Feed Forward\n",
    "## Define DFF model using keras\n",
    "1 input layer  - 6 neurons\n",
    "1 hidden layer - 64 neurons, relu activation\n",
    "1 output layer - 1 neuron, linear activation\n",
    "\n",
    "Dropout layer is used to reduce overfitting and improve the training preformace by desactivating 20% of the neurons. Not useful in this model"
   ],
   "metadata": {
    "collapsed": false,
    "pycharm": {
     "name": "#%% md\n"
    }
   }
  },
  {
   "cell_type": "code",
   "execution_count": 4,
   "outputs": [],
   "source": [
    "model = tf.keras.models.Sequential([\n",
    "    tf.keras.layers.Dense(6, input_dim=6, kernel_initializer='normal'),\n",
    "    tf.keras.layers.Dense(64, activation='relu'),\n",
    "    # tf.keras.layers.Dropout(0.2),\n",
    "    tf.keras.layers.Dense(1, activation=\"linear\")\n",
    "])\n",
    "\n",
    "\n",
    "model.compile(optimizer=tf.keras.optimizers.Adam(learning_rate),\n",
    "              loss='mean_squared_error')\n",
    "              #metrics=['mae', 'mape'])\n",
    "\n",
    "hist = model.fit(X_train, y_train, validation_split=.2, epochs=n_epochs, verbose=0)"
   ],
   "metadata": {
    "collapsed": false,
    "pycharm": {
     "name": "#%%\n"
    }
   }
  },
  {
   "cell_type": "code",
   "execution_count": 5,
   "outputs": [
    {
     "name": "stdout",
     "output_type": "stream",
     "text": [
      "128/128 [==============================] - 0s 610us/step - loss: 0.0213\n",
      "loss test set (mse): 0.021304666996002197\n"
     ]
    }
   ],
   "source": [
    "mse = model.evaluate(X_test, y_test)\n",
    "print(f\"loss test set (mse): {mse}\")"
   ],
   "metadata": {
    "collapsed": false,
    "pycharm": {
     "name": "#%%\n"
    }
   }
  },
  {
   "cell_type": "code",
   "execution_count": 6,
   "outputs": [
    {
     "data": {
      "text/plain": "<AxesSubplot:title={'center':'Learning Curves: loss according to the number of epochs'}>"
     },
     "execution_count": 6,
     "metadata": {},
     "output_type": "execute_result"
    },
    {
     "data": {
      "text/plain": "<Figure size 432x432 with 1 Axes>",
      "image/png": "[encoded data removed]"
     },
     "metadata": {
      "needs_background": "light"
     },
     "output_type": "display_data"
    }
   ],
   "source": [
    "fig, ax = plt.subplots(figsize=(6, 6))\n",
    "ax.set_title(\"Learning Curves: loss according to the number of epochs\")\n",
    "sns.lineplot(x=range(n_epochs), y=hist.history[\"loss\"], label=\"loss train set (mse)\", ax=ax)\n",
    "sns.lineplot(x=range(n_epochs), y=hist.history[\"val_loss\"], label=\"loss validation set (mse)\", ax=ax)"
   ],
   "metadata": {
    "collapsed": false,
    "pycharm": {
     "name": "#%%\n"
    }
   }
  },
  {
   "cell_type": "code",
   "execution_count": 7,
   "outputs": [
    {
     "name": "stdout",
     "output_type": "stream",
     "text": [
      "R2 score 0.6335380918292666\n"
     ]
    }
   ],
   "source": [
    "from sklearn.metrics import r2_score\n",
    "\n",
    "y_pred = model.predict(X_test)\n",
    "\n",
    "print(f\"R2 score {r2_score(y_test, y_pred)}\")"
   ],
   "metadata": {
    "collapsed": false,
    "pycharm": {
     "name": "#%%\n"
    }
   }
  },
  {
   "cell_type": "markdown",
   "source": [
    "# Recurent Neural Network\n",
    "## Define RNN model using keras to try the regression with another architecture\n",
    "1 input layer  - 6 neurons\n",
    "2 hidden layer - GRU - SimpleRNN\n",
    "1 output layer - 1 neuron, linear activation\n",
    "\n",
    "Dropout layer is used to reduce overfitting and improve the training preformance by desactivating 20% of the neurons each batch."
   ],
   "metadata": {
    "collapsed": false,
    "pycharm": {
     "name": "#%% md\n"
    }
   }
  },
  {
   "cell_type": "code",
   "execution_count": 8,
   "outputs": [],
   "source": [
    "model = tf.keras.Sequential()\n",
    "model.add(tf.keras.layers.Dense(6, input_shape=(6, 1)))\n",
    "tf.keras.layers.Dropout(0.2),\n",
    "model.add(tf.keras.layers.GRU(64, return_sequences=True))\n",
    "tf.keras.layers.Dropout(0.2),\n",
    "model.add(tf.keras.layers.SimpleRNN(64))\n",
    "tf.keras.layers.Dropout(0.2),\n",
    "model.add(tf.keras.layers.Dense(1, activation=\"linear\"))\n",
    "\n",
    "model.compile(optimizer=tf.keras.optimizers.Adam(learning_rate),\n",
    "              loss='mean_squared_error')\n",
    "hist = model.fit(X_train, y_train, validation_split=.2, epochs=n_epochs, verbose=0)"
   ],
   "metadata": {
    "collapsed": false,
    "pycharm": {
     "name": "#%%\n"
    }
   }
  },
  {
   "cell_type": "code",
   "execution_count": 9,
   "outputs": [
    {
     "name": "stdout",
     "output_type": "stream",
     "text": [
      "128/128 [==============================] - 0s 1ms/step - loss: 0.0214\n",
      "loss test set (mse): 0.021357759833335876\n"
     ]
    }
   ],
   "source": [
    "mse = model.evaluate(X_test, y_test)\n",
    "print(f\"loss test set (mse): {mse}\")"
   ],
   "metadata": {
    "collapsed": false,
    "pycharm": {
     "name": "#%%\n"
    }
   }
  },
  {
   "cell_type": "code",
   "execution_count": 10,
   "outputs": [
    {
     "data": {
      "text/plain": "<AxesSubplot:title={'center':'Learning Curves: loss according to the number epochs'}>"
     },
     "execution_count": 10,
     "metadata": {},
     "output_type": "execute_result"
    },
    {
     "data": {
      "text/plain": "<Figure size 432x432 with 1 Axes>",
      "image/png": "[encoded data removed]"
     },
     "metadata": {
      "needs_background": "light"
     },
     "output_type": "display_data"
    }
   ],
   "source": [
    "fig, ax = plt.subplots(figsize=(6, 6))\n",
    "ax.set_title(\"Learning Curves: loss according to the number epochs\")\n",
    "sns.lineplot(x=range(n_epochs), y=hist.history[\"loss\"], label=\"loss train set (mse)\", ax=ax)\n",
    "sns.lineplot(x=range(n_epochs), y=hist.history[\"val_loss\"], label=\"loss validation set (mse)\", ax=ax)"
   ],
   "metadata": {
    "collapsed": false,
    "pycharm": {
     "name": "#%%\n"
    }
   }
  },
  {
   "cell_type": "code",
   "execution_count": 11,
   "outputs": [
    {
     "name": "stdout",
     "output_type": "stream",
     "text": [
      "R2 score 0.6326250586925859\n"
     ]
    }
   ],
   "source": [
    "from sklearn.metrics import r2_score\n",
    "\n",
    "y_pred = model.predict(X_test)\n",
    "\n",
    "print(f\"R2 score {r2_score(y_test, y_pred)}\")"
   ],
   "metadata": {
    "collapsed": false,
    "pycharm": {
     "name": "#%%\n"
    }
   }
  },
  {
   "cell_type": "markdown",
   "source": [
    "___"
   ],
   "metadata": {
    "collapsed": false
   }
  },
  {
   "cell_type": "markdown",
   "source": [
    "## Implementation of features selection with Boruta and declaration of a new model"
   ],
   "metadata": {
    "collapsed": false,
    "pycharm": {
     "name": "#%% md\n"
    }
   }
  },
  {
   "cell_type": "code",
   "execution_count": 12,
   "outputs": [],
   "source": [
    "import pandas as pd\n",
    "from boruta import BorutaPy\n",
    "from sklearn.ensemble import RandomForestRegressor\n",
    "import numpy as np"
   ],
   "metadata": {
    "collapsed": false,
    "pycharm": {
     "name": "#%%\n"
    }
   }
  },
  {
   "cell_type": "code",
   "execution_count": 13,
   "outputs": [],
   "source": [
    "df = pd.read_csv('data/housing.csv').dropna()\n",
    "\n",
    "X = pd.get_dummies(df.drop(\"median_house_value\", axis=1))\n",
    "y = df[\"median_house_value\"]\n",
    "\n",
    "X['total_rooms'] = X['total_rooms'] / X['households']\n",
    "X['total_bedrooms'] = X['total_bedrooms'] / X['households']\n",
    "X['population'] = X['population'] / X['households']\n",
    "X = X.drop('households', axis=1)"
   ],
   "metadata": {
    "collapsed": false,
    "pycharm": {
     "name": "#%%\n"
    }
   }
  },
  {
   "cell_type": "code",
   "execution_count": 14,
   "outputs": [
    {
     "data": {
      "text/plain": "RandomForestRegressor(n_jobs=-1, oob_score=True)"
     },
     "execution_count": 14,
     "metadata": {},
     "output_type": "execute_result"
    }
   ],
   "source": [
    "randomForest = RandomForestRegressor(n_jobs=-1, oob_score=True)\n",
    "randomForest.fit(X, y)"
   ],
   "metadata": {
    "collapsed": false,
    "pycharm": {
     "name": "#%%\n"
    }
   }
  },
  {
   "cell_type": "code",
   "execution_count": 15,
   "outputs": [
    {
     "data": {
      "text/plain": "BorutaPy(estimator=RandomForestRegressor(n_estimators=48, n_jobs=-1,\n                                         oob_score=True,\n                                         random_state=RandomState(MT19937) at 0x1DBB658F940),\n         n_estimators='auto',\n         random_state=RandomState(MT19937) at 0x1DBB658F940)"
     },
     "execution_count": 15,
     "metadata": {},
     "output_type": "execute_result"
    }
   ],
   "source": [
    "feature_selection = BorutaPy(randomForest, n_estimators='auto', verbose=0, random_state=16)\n",
    "feature_selection.fit(np.array(X), np.array(y))"
   ],
   "metadata": {
    "collapsed": false,
    "pycharm": {
     "name": "#%%\n"
    }
   }
  },
  {
   "cell_type": "code",
   "execution_count": 16,
   "outputs": [
    {
     "name": "stdout",
     "output_type": "stream",
     "text": [
      "count: 1  Name: longitude Rank: 1\n",
      "count: 2  Name: latitude Rank: 1\n",
      "count: 3  Name: housing_median_age Rank: 1\n",
      "count: 4  Name: total_rooms Rank: 1\n",
      "count: 5  Name: total_bedrooms Rank: 1\n",
      "count: 6  Name: population Rank: 1\n",
      "count: 7  Name: median_income Rank: 1\n",
      "count: 8  Name: ocean_proximity_INLAND Rank: 1\n"
     ]
    }
   ],
   "source": [
    "feature_selection.transform(np.array(X))\n",
    "\n",
    "# Creating list of varibale name, ranks, and final decision using zip\n",
    "feature_rankings = list(zip(X.columns,\n",
    "                            feature_selection.ranking_,\n",
    "                            feature_selection.support_))\n",
    "\n",
    "# Printing the list of varibales which got selected\n",
    "count = 0\n",
    "for i in feature_rankings:\n",
    "    if i[2] == True:\n",
    "        count += 1\n",
    "        print(f'count: {count}  Name: {i[0]} Rank: {i[1]}')"
   ],
   "metadata": {
    "collapsed": false,
    "pycharm": {
     "name": "#%%\n"
    }
   }
  },
  {
   "cell_type": "markdown",
   "source": [
    "### Only the houseHolds feature is eliminated by the feature selection of Boruta"
   ],
   "metadata": {
    "collapsed": false,
    "pycharm": {
     "name": "#%% md\n"
    }
   }
  },
  {
   "cell_type": "code",
   "execution_count": 17,
   "outputs": [],
   "source": [
    "from sklearn.model_selection import train_test_split\n",
    "X_train, X_test, y_train, y_test = train_test_split(X, y, test_size=.2)"
   ],
   "metadata": {
    "collapsed": false,
    "pycharm": {
     "name": "#%%\n"
    }
   }
  },
  {
   "cell_type": "code",
   "execution_count": 18,
   "outputs": [],
   "source": [
    "normalizer_layer = tf.keras.layers.Normalization(input_dim=12, axis=None)\n",
    "normalizer_layer.adapt(X_train.values)\n",
    "\n",
    "model = tf.keras.models.Sequential([\n",
    "    normalizer_layer,\n",
    "    tf.keras.layers.Dense(32, activation='relu'),\n",
    "    tf.keras.layers.Dense(32, activation='relu'),\n",
    "    tf.keras.layers.Dense(16, activation='relu'),\n",
    "    tf.keras.layers.Dropout(0.2),\n",
    "    tf.keras.layers.Dense(1, activation=\"linear\")\n",
    "])\n",
    "\n",
    "\n",
    "model.compile(optimizer=tf.keras.optimizers.Adam(learning_rate=.008),\n",
    "              loss='mean_squared_error')\n",
    "#metrics=['mae', 'mape'])"
   ],
   "metadata": {
    "collapsed": false,
    "pycharm": {
     "name": "#%%\n"
    }
   }
  },
  {
   "cell_type": "code",
   "execution_count": 19,
   "outputs": [
    {
     "name": "stdout",
     "output_type": "stream",
     "text": [
      "Model: \"sequential_2\"\n",
      "_________________________________________________________________\n",
      " Layer (type)                Output Shape              Param #   \n",
      "=================================================================\n",
      " normalization (Normalizatio  (None, 12)               3         \n",
      " n)                                                              \n",
      "                                                                 \n",
      " dense_5 (Dense)             (None, 32)                416       \n",
      "                                                                 \n",
      " dense_6 (Dense)             (None, 32)                1056      \n",
      "                                                                 \n",
      " dense_7 (Dense)             (None, 16)                528       \n",
      "                                                                 \n",
      " dropout_3 (Dropout)         (None, 16)                0         \n",
      "                                                                 \n",
      " dense_8 (Dense)             (None, 1)                 17        \n",
      "                                                                 \n",
      "=================================================================\n",
      "Total params: 2,020\n",
      "Trainable params: 2,017\n",
      "Non-trainable params: 3\n",
      "_________________________________________________________________\n"
     ]
    }
   ],
   "source": [
    "model.summary()"
   ],
   "metadata": {
    "collapsed": false,
    "pycharm": {
     "name": "#%%\n"
    }
   }
  },
  {
   "cell_type": "code",
   "execution_count": 20,
   "outputs": [],
   "source": [
    "hist = model.fit(X_train, y_train, validation_split=.2, epochs=int(n_epochs/4), verbose=0)"
   ],
   "metadata": {
    "collapsed": false,
    "pycharm": {
     "name": "#%%\n"
    }
   }
  },
  {
   "cell_type": "code",
   "execution_count": 21,
   "outputs": [
    {
     "name": "stdout",
     "output_type": "stream",
     "text": [
      "128/128 [==============================] - 0s 614us/step - loss: 4583887872.0000\n",
      "loss test set (mse): 4583887872.0\n"
     ]
    },
    {
     "data": {
      "text/plain": "<AxesSubplot:title={'center':'Learning Curves: loss according to the number epochs'}>"
     },
     "execution_count": 21,
     "metadata": {},
     "output_type": "execute_result"
    },
    {
     "data": {
      "text/plain": "<Figure size 432x432 with 1 Axes>",
      "image/png": "[encoded data removed]"
     },
     "metadata": {
      "needs_background": "light"
     },
     "output_type": "display_data"
    }
   ],
   "source": [
    "mse = model.evaluate(X_test, y_test)\n",
    "print(f\"loss test set (mse): {mse}\")\n",
    "fig, ax = plt.subplots(figsize=(6, 6))\n",
    "ax.set_title(\"Learning Curves: loss according to the number epochs\")\n",
    "sns.lineplot(x=range(int(n_epochs/4)), y=hist.history[\"loss\"], label=\"loss train set (mse)\", ax=ax)\n",
    "sns.lineplot(x=range(int(n_epochs/4)), y=hist.history[\"val_loss\"], label=\"loss validation set (mse)\", ax=ax)"
   ],
   "metadata": {
    "collapsed": false,
    "pycharm": {
     "name": "#%%\n"
    }
   }
  },
  {
   "cell_type": "code",
   "execution_count": 22,
   "outputs": [
    {
     "name": "stdout",
     "output_type": "stream",
     "text": [
      "R2 score 0.6557352064701554\n"
     ]
    }
   ],
   "source": [
    "from sklearn.metrics import r2_score\n",
    "\n",
    "y_pred = model.predict(X_test)\n",
    "\n",
    "print(f\"R2 score {r2_score(y_test, y_pred)}\")"
   ],
   "metadata": {
    "collapsed": false,
    "pycharm": {
     "name": "#%%\n"
    }
   }
  },
  {
   "cell_type": "markdown",
   "source": [
    "### This is with this setup:\n",
    "#### - Improvement of the features selection\n",
    "#### - 3 hidden layer (32, 32, 16), learning_rate=0.009, n_epochs=50 that results are the best (highest r2, lowest mse) without overfitting\n",
    "### But results are not that good as ML model such as Boosting Gradient Regressor. In this context it's more suitable to use ML instead of DL for simplicity of the implementation and better results."
   ],
   "metadata": {
    "collapsed": false,
    "pycharm": {
     "name": "#%% md\n"
    }
   }
  }
 ],
 "metadata": {
  "kernelspec": {
   "display_name": "Python 3",
   "language": "python",
   "name": "python3"
  },
  "language_info": {
   "codemirror_mode": {
    "name": "ipython",
    "version": 2
   },
   "file_extension": ".py",
   "mimetype": "text/x-python",
   "name": "python",
   "nbconvert_exporter": "python",
   "pygments_lexer": "ipython2",
   "version": "2.7.6"
  }
 },
 "nbformat": 4,
 "nbformat_minor": 0
}